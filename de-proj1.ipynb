{
 "cells": [
  {
   "cell_type": "markdown",
   "id": "5a2f3e2b",
   "metadata": {},
   "source": [
    "## Python NewsData.io API Connection & Info Processing Script"
   ]
  },
  {
   "cell_type": "code",
   "execution_count": null,
   "id": "9521e3d5",
   "metadata": {},
   "outputs": [],
   "source": [
    "import os\n",
    "import sqlite3\n",
    "from newsdataapi import NewsDataApiClient\n",
    "\n",
    "# Read the API key from an environment variable\n",
    "API_KEY: str | None = os.environ.get(\"NEWS_API_KEY\")\n",
    "\n",
    "if not API_KEY:\n",
    "    print(\"Error: NEWS_API_KEY environment variable not set.\")\n",
    "    exit(1)\n",
    "\n",
    "# Type checker hint: API_KEY is now guaranteed to be str\n",
    "api = NewsDataApiClient(apikey=API_KEY)  # type: ignore\n",
    "\n",
    "DB_NAME = \"newsdata.db\"\n",
    "\n",
    "\n",
    "def fetch_and_store_articles():\n",
    "    \"\"\"\n",
    "    Fetches news articles from NewsData.io API and stores them in an SQLite database.\n",
    "    \"\"\"\n",
    "    try:\n",
    "        response_data = api.news_api(language=\"en\")\n",
    "\n",
    "    except Exception as e:\n",
    "        print(f\"Failed to fetch data from API: {e}\")\n",
    "        return\n",
    "\n",
    "    if response_data and response_data.get(\"status\") == \"success\":\n",
    "        articles_to_store = response_data.get(\"results\", [])\n",
    "        if not articles_to_store:\n",
    "            print(\"No articles found to store.\")\n",
    "            return\n",
    "\n",
    "        print(f\"Successfully fetched {len(articles_to_store)} articles.\")\n",
    "\n",
    "        try:\n",
    "            with sqlite3.connect(DB_NAME) as conn:\n",
    "                cursor = conn.cursor()\n",
    "\n",
    "                cursor.execute(\"\"\"\n",
    "                CREATE TABLE IF NOT EXISTS articles (\n",
    "                    id TEXT PRIMARY KEY,\n",
    "                    title TEXT,\n",
    "                    author TEXT,\n",
    "                    body TEXT,\n",
    "                    source TEXT,\n",
    "                    published_at TEXT\n",
    "                )\n",
    "                \"\"\")\n",
    "\n",
    "                inserted_count = 0\n",
    "                for item in articles_to_store:\n",
    "                    # SOLUTION: Check if the 'creator' is a list and join it into a string\n",
    "                    creator = item.get(\"creator\")\n",
    "                    if isinstance(creator, list):\n",
    "                        # Join the list of creators into a single string\n",
    "                        creator = \", \".join(creator)\n",
    "\n",
    "                    article = {\n",
    "                        \"id\": item.get(\"article_id\"),\n",
    "                        \"title\": item.get(\"title\"),\n",
    "                        \"author\": creator,  # Use the corrected creator variable\n",
    "                        \"body\": item.get(\"content\"),\n",
    "                        \"source\": item.get(\"source_name\"),\n",
    "                        \"published_at\": item.get(\"pubDate\"),\n",
    "                    }\n",
    "\n",
    "                    cursor.execute(\"\"\"\n",
    "                    INSERT OR REPLACE INTO articles (id, title, author, body, source, published_at)\n",
    "                    VALUES (:id, :title, :author, :body, :source, :published_at)\n",
    "                    \"\"\", article)\n",
    "                    inserted_count += 1\n",
    "\n",
    "                print(\n",
    "                    f\"Successfully inserted/updated {inserted_count} articles into the database.\")\n",
    "\n",
    "                print(\"\\n--- Verifying data by selecting records ---\")\n",
    "                cursor.execute(\n",
    "                    \"SELECT id, title, source FROM articles LIMIT 5\")\n",
    "                rows = cursor.fetchall()\n",
    "\n",
    "                for row in rows:\n",
    "                    print(row)\n",
    "\n",
    "        except sqlite3.Error as e:\n",
    "            print(f\"Database error occurred: {e}\")\n",
    "\n",
    "    else:\n",
    "        print(\"API request was unsuccessful.\")\n",
    "        print(f\"Error details: {response_data}\")\n",
    "\n",
    "\n",
    "if __name__ == \"__main__\":\n",
    "    fetch_and_store_articles()"
   ]
  },
  {
   "cell_type": "markdown",
   "id": "09ec993d",
   "metadata": {},
   "source": [
    "___"
   ]
  },
  {
   "cell_type": "markdown",
   "id": "a45d7f4c",
   "metadata": {},
   "source": [
    "*all following text is subject to change*"
   ]
  },
  {
   "cell_type": "markdown",
   "id": "6dacc556",
   "metadata": {},
   "source": [
    "# ETL Pipeline Overview"
   ]
  },
  {
   "cell_type": "markdown",
   "id": "55de0a5e",
   "metadata": {},
   "source": [
    "This script automates the process of gathering and managing data. It begins by establishing a connection to the NewsData.io API to retrieve raw data (Extract). Next, it modifies the data to fit a specific structure (Transform). Finally, it inserts the cleaned and structured data into a database for permanent storage (Load). This allows the data to be used for further analysis or other applications."
   ]
  },
  {
   "cell_type": "markdown",
   "id": "72fd4d7e",
   "metadata": {},
   "source": [
    "## Extract - Pulling raw data from its source"
   ]
  },
  {
   "cell_type": "code",
   "execution_count": null,
   "id": "3d295280",
   "metadata": {},
   "outputs": [],
   "source": [
    "# Read the API key from an environment variable\n",
    "API_KEY: str | None = os.environ.get(\"NEWS_API_KEY\")\n",
    "\n",
    "if not API_KEY:\n",
    "    print(\"Error: NEWS_API_KEY environment variable not set.\")\n",
    "    exit(1)\n",
    "\n",
    "# Type checker hint: API_KEY is now guaranteed to be str\n",
    "api = NewsDataApiClient(apikey=API_KEY)  # type: ignore\n",
    "\n",
    "\n",
    "# ...\n",
    "\n",
    "\n",
    "def fetch_and_store_articles():\n",
    "    \"\"\"\n",
    "    Fetches news articles from NewsData.io API and stores them in an SQLite database.\n",
    "    \"\"\"\n",
    "    try:\n",
    "        response_data = api.news_api(language=\"en\")\n",
    "    # ..."
   ]
  },
  {
   "cell_type": "markdown",
   "id": "ef35ae63",
   "metadata": {},
   "source": [
    "The script initializes an API client with a key and makes a request for news articles. The raw data is received in a JSON-like format."
   ]
  },
  {
   "cell_type": "markdown",
   "id": "e333c026",
   "metadata": {},
   "source": [
    "## Transform - Cleaning, structuring, and enriching the extracted data"
   ]
  },
  {
   "cell_type": "code",
   "execution_count": null,
   "id": "aaf6a935",
   "metadata": {},
   "outputs": [],
   "source": [
    "# ...\n",
    "\n",
    "\n",
    "inserted_count = 0\n",
    "for item in articles_to_store:\n",
    "    # Check if the 'creator' is a list and join it into a string\n",
    "    creator = item.get(\"creator\")\n",
    "    if isinstance(creator, list):\n",
    "        # Join the list of creators into a single string\n",
    "        creator = \", \".join(creator)\n",
    "\n",
    "    article = {\n",
    "        \"id\": item.get(\"article_id\"),\n",
    "        \"title\": item.get(\"title\"),\n",
    "        \"author\": creator,  # Use the corrected creator variable\n",
    "        \"body\": item.get(\"content\"),\n",
    "        \"source\": item.get(\"source_name\"),\n",
    "        \"published_at\": item.get(\"pubDate\"),\n",
    "    }\n",
    "\n",
    "    \n",
    "# ..."
   ]
  },
  {
   "cell_type": "markdown",
   "id": "b8597d55",
   "metadata": {},
   "source": [
    "This script performs two key transformations.\n",
    "1. It handles a potential data type mismatch by converting the creator field from a list to a single string.\n",
    "2. It restructures the data by mapping the API's fields to a new dictionary with a consistent naming convention for the database columns."
   ]
  },
  {
   "cell_type": "markdown",
   "id": "c334325b",
   "metadata": {},
   "source": [
    "## Load - Writing the transformed data into its final destination"
   ]
  },
  {
   "cell_type": "code",
   "execution_count": null,
   "id": "f833dae9",
   "metadata": {},
   "outputs": [],
   "source": [
    "# ...\n",
    "\n",
    "\n",
    "try:\n",
    "    with sqlite3.connect(DB_NAME) as conn:\n",
    "        cursor = conn.cursor()\n",
    "\n",
    "        cursor.execute(\"\"\"\n",
    "        CREATE TABLE IF NOT EXISTS articles (\n",
    "            id TEXT PRIMARY KEY,\n",
    "            title TEXT,\n",
    "            author TEXT,\n",
    "            body TEXT,\n",
    "            source TEXT,\n",
    "            published_at TEXT\n",
    "        )\n",
    "        \"\"\")\n",
    "        \n",
    "        # ...\n",
    "\n",
    "        cursor.execute(\"\"\"\n",
    "        INSERT OR REPLACE INTO articles (id, title, author, body, source, published_at)\n",
    "        VALUES (:id, :title, :author, :body, :source, :published_at)\n",
    "        \"\"\", article)\n",
    "\n",
    "\n",
    "# ..."
   ]
  },
  {
   "cell_type": "markdown",
   "id": "2d209891",
   "metadata": {},
   "source": [
    "The script connects to a database (SQLite in this case), creates a table if it doesn't exist, and then iterates through the processed articles, inserting each one into the database. The use of INSERT OR REPLACE ensures that articles are either inserted as new records or updated if they already exist, preventing duplicates."
   ]
  }
 ],
 "metadata": {
  "jupytext": {
   "formats": "ipynb,py:percent"
  },
  "kernelspec": {
   "display_name": ".venv",
   "language": "python",
   "name": "python3"
  },
  "language_info": {
   "codemirror_mode": {
    "name": "ipython",
    "version": 3
   },
   "file_extension": ".py",
   "mimetype": "text/x-python",
   "name": "python",
   "nbconvert_exporter": "python",
   "pygments_lexer": "ipython3",
   "version": "3.13.6"
  }
 },
 "nbformat": 4,
 "nbformat_minor": 5
}
